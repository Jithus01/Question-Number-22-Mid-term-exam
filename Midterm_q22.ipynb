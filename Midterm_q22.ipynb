{
 "cells": [
  {
   "cell_type": "markdown",
   "id": "d8926583",
   "metadata": {},
   "source": [
    "# Question 22"
   ]
  },
  {
   "cell_type": "code",
   "execution_count": 1,
   "id": "e13cb201",
   "metadata": {},
   "outputs": [],
   "source": [
    "import sqlite3\n",
    "import pandas as pd\n",
    "\n",
    "conn = sqlite3.connect(':memory:')\n",
    "cursor = conn.cursor()\n",
    "\n",
    "cursor.execute('''\n",
    "CREATE TABLE Weather (\n",
    "    id INTEGER PRIMARY KEY,\n",
    "    recordDate DATE,\n",
    "    temperature INTEGER\n",
    ")\n",
    "''')\n",
    "\n",
    "weather_data = [\n",
    "    (1, '2015-01-01', 10),\n",
    "    (2, '2015-01-02', 25),\n",
    "    (3, '2015-01-03', 20),\n",
    "    (4, '2015-01-04', 30)\n",
    "]\n",
    "\n",
    "cursor.executemany('INSERT INTO Weather (id, recordDate, temperature) VALUES (?, ?, ?)', weather_data)\n",
    "conn.commit()\n",
    "\n",
    "query = '''\n",
    "SELECT w1.id\n",
    "FROM Weather w1\n",
    "JOIN Weather w2 ON DATE(w1.recordDate) = DATE(w2.recordDate, '+1 day')\n",
    "WHERE w1.temperature > w2.temperature\n",
    "'''\n"
   ]
  },
  {
   "cell_type": "code",
   "execution_count": 2,
   "id": "ef91116b",
   "metadata": {},
   "outputs": [
    {
     "name": "stdout",
     "output_type": "stream",
     "text": [
      "SQL Query Results:\n",
      "2\n",
      "4\n"
     ]
    }
   ],
   "source": [
    "cursor.execute(query)\n",
    "result_sql = cursor.fetchall()\n",
    "\n",
    "print(\"SQL Query Results:\")\n",
    "for row in result_sql:\n",
    "    print(row[0])\n"
   ]
  },
  {
   "cell_type": "code",
   "execution_count": 3,
   "id": "15c0600f",
   "metadata": {},
   "outputs": [
    {
     "name": "stdout",
     "output_type": "stream",
     "text": [
      "\n",
      "Python/Pandas Results:\n",
      "[2, 4]\n"
     ]
    }
   ],
   "source": [
    "weather_df = pd.DataFrame(weather_data, columns=['id', 'recordDate', 'temperature'])\n",
    "\n",
    "weather_df['recordDate'] = pd.to_datetime(weather_df['recordDate'])\n",
    "\n",
    "weather_df = weather_df.sort_values(by='recordDate')\n",
    "\n",
    "weather_df['temp_diff'] = weather_df['temperature'].diff()\n",
    "\n",
    "higher_temp_ids = weather_df[weather_df['temp_diff'] > 0]['id']\n",
    "\n",
    "print(\"\\nPython/Pandas Results:\")\n",
    "print(higher_temp_ids.to_list())\n",
    "\n",
    "conn.close()"
   ]
  },
  {
   "cell_type": "code",
   "execution_count": null,
   "id": "8b0de9d5",
   "metadata": {},
   "outputs": [],
   "source": []
  }
 ],
 "metadata": {
  "kernelspec": {
   "display_name": "Python 3 (ipykernel)",
   "language": "python",
   "name": "python3"
  },
  "language_info": {
   "codemirror_mode": {
    "name": "ipython",
    "version": 3
   },
   "file_extension": ".py",
   "mimetype": "text/x-python",
   "name": "python",
   "nbconvert_exporter": "python",
   "pygments_lexer": "ipython3",
   "version": "3.10.9"
  }
 },
 "nbformat": 4,
 "nbformat_minor": 5
}
